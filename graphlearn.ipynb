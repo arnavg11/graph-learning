{
 "cells": [
  {
   "cell_type": "code",
   "execution_count": 1,
   "metadata": {
    "id": "xuuahIAYaVDx"
   },
   "outputs": [],
   "source": [
    "import networkx as nx\n",
    "import matplotlib.pyplot as plt\n",
    "\n",
    "\n",
    "# Defining a Class\n",
    "class GraphVisualization:\n",
    "\n",
    "    def __init__(self):\n",
    "\n",
    "        # visual is a list which stores all\n",
    "        # the set of edges that constitutes a\n",
    "        # graph\n",
    "        self.visual = []\n",
    "\n",
    "    # addEdge function inputs the vertices of an\n",
    "    # edge and appends it to the visual list\n",
    "    def addEdge(self, a, b):\n",
    "        temp = [a, b]\n",
    "        self.visual.append(temp)\n",
    "\n",
    "    # In visualize function G is an object of\n",
    "    # class Graph given by networkx G.add_edges_from(visual)\n",
    "    # creates a graph with a given list\n",
    "    # nx.draw_networkx(G) - plots the graph\n",
    "    # plt.show() - displays the graph\n",
    "    def visualize(self):\n",
    "        G = nx.Graph()\n",
    "        G.add_edges_from(self.visual)\n",
    "        nx.draw_networkx(G)\n",
    "        plt.show()"
   ]
  },
  {
   "cell_type": "code",
   "execution_count": null,
   "metadata": {
    "id": "ONgM6me4aURT"
   },
   "outputs": [],
   "source": []
  },
  {
   "cell_type": "code",
   "execution_count": 2,
   "metadata": {
    "id": "gcuxcjf2i9bW"
   },
   "outputs": [],
   "source": [
    "import numpy as np\n",
    "from scipy.special import expit as logsig\n",
    "from scipy.stats import binom\n",
    "import random\n",
    "import matplotlib.pyplot as plt\n",
    "\n",
    "def sampling_ising(A, N):\n",
    "    \"\"\"\n",
    "    Sample from an Ising model with weight matrix A\n",
    "    A is the weight matrix, A_ij = A_ji, assuming the mean-field = 0\n",
    "    \"\"\"\n",
    "    s = A.shape[0]\n",
    "    all_states = np.array([(np.array(list(bin(i)[2:].zfill(s)), dtype=int)*2-1) for i in range(2**s)])  #generates all states\n",
    "    probs = np.array([np.exp(x @ A @ x.T / 2) for x in all_states])\n",
    "    probs = probs / probs.sum()\n",
    "    samples_idx = np.random.choice(2**s, size=N, p=probs)\n",
    "    samples = all_states[samples_idx]           #maps index of chosen state to actual state\n",
    "    return samples\n",
    "\n",
    "def sampling_diamond(s, theta, rand_sign, num_sample):\n",
    "    \"\"\"\n",
    "    Sampling from an Ising model with diamond graph structure\n",
    "    if rand_sign = True, then the sign of each edge weight is random\n",
    "    if rand_sign = False, then all edge weights = theta\n",
    "    \"\"\"\n",
    "    A = np.zeros((s, s))\n",
    "    A[0, 1:s-1] = theta\n",
    "    A[s-1, 1:s-1] = theta\n",
    "    A[1:s-1, 0] = theta\n",
    "    A[1:s-1, s-1] = theta\n",
    "    if rand_sign:\n",
    "        sign_mat = np.triu((binom.rvs(1, 0.5, size=(s, s))*2-1), 1)\n",
    "        A = A * (sign_mat + sign_mat.T)  # make it symmetric\n",
    "\n",
    "    samples = sampling_ising(A, num_sample)\n",
    "    return A, samples\n",
    "def dDegreeGraphSampling(s, theta, rand_sign, num_sample,d):\n",
    "    G = nx.random_regular_graph(d=d,n=s);\n",
    "    A = np.zeros((s, s))\n",
    "    for i in range(s):\n",
    "        for j in range(s):\n",
    "            if i!=j and G.has_edge(i,j):\n",
    "                A[i][j] = theta*(-1 if rand_sign and random.random()<.5 else 1)\n",
    "    return A,sampling_ising(A, num_sample)\n",
    "def showMat(model):\n",
    "    for i in range(len(model)):\n",
    "        for j in range(len(model)):\n",
    "            try:\n",
    "                print(\"{0:.2f}\".format(model[i][j]),end = \" \")\n",
    "            except:\n",
    "                print(model[i][j],end=\" \")\n",
    "        print()\n",
    "\n",
    "def mirror_descent(X, y, T, W1):\n",
    "    \"\"\"\n",
    "    Use mirror descent to solve a logistic regression problem\n",
    "    with simplex constraint:\n",
    "    x_{t+1} = x_t exp(-eta*grad), x_{t+1} = x_{t+1} / ||x_{t+1}||_1\n",
    "    \"\"\"\n",
    "    d = X.shape[1]\n",
    "    N = X.shape[0]\n",
    "    eta = np.sqrt(2 * np.log(d) / T) / (2 * W1)\n",
    "    w = np.ones(d) / d\n",
    "    w_sum = w.copy()\n",
    "\n",
    "    for t in range(T):\n",
    "        preds = logsig(X @ w) - y\n",
    "        grad = (np.ones(N) / N) @ (preds.reshape(-1, 1) * X)  # could use stochastic gradient\n",
    "        w = w * np.exp(-eta * grad)\n",
    "        w = w / w.sum()\n",
    "        w_sum = w_sum + w\n",
    "\n",
    "    w_avg = w_sum / T\n",
    "    # compute the gradient norm at w_avg\n",
    "    preds = logsig(X @ w_avg) - y\n",
    "    grad = (np.ones(N) / N) @ (preds.reshape(-1, 1) * X)\n",
    "    g_norm = np.linalg.norm(grad)\n",
    "\n",
    "    return w_avg, g_norm\n",
    "\n",
    "def ising_learn(graph_size, num_sample, theta, rand_sign, num_iter):\n",
    "    \"\"\"\n",
    "    graph_size: indicates the size of the graph; theta: weight of each edge\n",
    "    if rand_sign = True, then the sign of each edge weight is random\n",
    "    if rand_sign = False, then all edge weights = theta\n",
    "    num_samples: number of samples; num_iter: number of mirror descent iterations\n",
    "    \"\"\"\n",
    "    s = graph_size\n",
    "    A, Xs = sampling_diamond(s, theta, rand_sign, num_sample)\n",
    "    W1 = 2 * (s - 2) * theta\n",
    "    A_hat = np.zeros((s, s))\n",
    "\n",
    "    for i in range(s):\n",
    "        y = (Xs[:, i] + 1) / 2\n",
    "        X = np.hstack([Xs[:, :i], Xs[:, i+1:]])\n",
    "        X = np.hstack([X, -X, np.zeros((num_sample, 1))]) * W1\n",
    "        w, _ = mirror_descent(X, y, num_iter, W1)\n",
    "        w = (w[:s-1] - w[s-1:2*s-2]) * W1\n",
    "        A_hat[i, :i] = w[:i] / 2\n",
    "        A_hat[i, i+1:] = w[i:] / 2\n",
    "\n",
    "    error = np.max(np.abs(A - A_hat))\n",
    "    return error\n",
    "def showModel(model):\n",
    "    G = GraphVisualization()\n",
    "    for i in range(len(model)):\n",
    "        for j in range(i):\n",
    "            if(model[i][j]!=0):\n",
    "                G.addEdge(i,j);\n",
    "    G.visualize()\n",
    "def ising_learn_d_degree_graph(graph_size, num_sample, theta, rand_sign, num_iter,d,show = False):\n",
    "    \"\"\"\n",
    "    graph_size: indicates the size of the graph; theta: weight of each edge\n",
    "    if rand_sign = True, then the sign of each edge weight is random\n",
    "    if rand_sign = False, then all edge weights = theta\n",
    "    num_samples: number of samples; num_iter: number of mirror descent iterations\n",
    "    \"\"\"\n",
    "    s = graph_size\n",
    "    A, Xs = dDegreeGraphSampling(s, theta, rand_sign, num_sample,d)\n",
    "    W1 = 2 * (s - 2) * theta\n",
    "    A_hat = np.zeros((s, s))\n",
    "\n",
    "    for i in range(s):\n",
    "        y = (Xs[:, i] + 1) / 2\n",
    "        X = np.hstack([Xs[:, :i], Xs[:, i+1:]])\n",
    "        X = np.hstack([X, -X, np.zeros((num_sample, 1))]) * W1\n",
    "        w, _ = mirror_descent(X, y, num_iter, W1)\n",
    "        w = (w[:s-1] - w[s-1:2*s-2]) * W1\n",
    "        A_hat[i, :i] = w[:i] / 2\n",
    "        A_hat[i, i+1:] = w[i:] / 2\n",
    "        topDedges = sorted([(A_hat[i,j],j) for j in range(s)])\n",
    "        A_hat[i,:] = np.zeros(s)\n",
    "        for k in range(d):\n",
    "            A_hat[i,topDedges[-k-1][1]] = topDedges[-k-1][0]\n",
    "    if show:\n",
    "        print(\"Actual graph\")\n",
    "        showModel(A)\n",
    "        showMat(A)\n",
    "        print(\"predicted graph\")\n",
    "        showModel([[A_hat[i][j]!=0 for j in range(s)]for i in range(s)])\n",
    "        showMat(A_hat)\n",
    "\n",
    "    error = np.max(np.abs(A - A_hat))\n",
    "    return error\n",
    "def ising_learn_d_degree_graph_success(graph_size, num_sample, theta, rand_sign, num_iter,d,show = False):\n",
    "    \"\"\"\n",
    "    graph_size: indicates the size of the graph; theta: weight of each edge\n",
    "    if rand_sign = True, then the sign of each edge weight is random\n",
    "    if rand_sign = False, then all edge weights = theta\n",
    "    num_samples: number of samples; num_iter: number of mirror descent iterations\n",
    "    \"\"\"\n",
    "    s = graph_size\n",
    "    A, Xs = dDegreeGraphSampling(s, theta, rand_sign, num_sample,d)\n",
    "    W1 = 2 * (s - 2) * theta\n",
    "    A_hat = np.zeros((s, s))\n",
    "\n",
    "    for i in range(s):\n",
    "        y = (Xs[:, i] + 1) / 2\n",
    "        X = np.hstack([Xs[:, :i], Xs[:, i+1:]])\n",
    "        X = np.hstack([X, -X, np.zeros((num_sample, 1))]) * W1\n",
    "        w, _ = mirror_descent(X, y, num_iter, W1)\n",
    "        w = (w[:s-1] - w[s-1:2*s-2]) * W1\n",
    "        A_hat[i, :i] = w[:i] / 2\n",
    "        A_hat[i, i+1:] = w[i:] / 2\n",
    "    topEdges = sorted([(abs(A_hat[i,j]),i,j) for j in range(s) for i in range(s)],reverse=True)\n",
    "    out = np.zeros((s, s))\n",
    "    degree = [0]*s;\n",
    "    for weight,i,j in topEdges:\n",
    "        if out[i][j]==0 and degree[i]<d and degree[j]<d:\n",
    "            degree[i]+=1\n",
    "            degree[j]+=1\n",
    "            out[i][j] = A_hat[i,j]\n",
    "            out[j][i] = out[i][j]\n",
    "    if show:\n",
    "        print(\"Actual graph\")\n",
    "        showModel(A)\n",
    "        showMat(A)\n",
    "        print(\"predicted graph\")\n",
    "        showModel(out)\n",
    "        showMat(out)\n",
    "    threshold = .01\n",
    "    error = np.max(np.abs(A - A_hat))\n",
    "    print(\"max error is \",error)\n",
    "    for i in range(s):\n",
    "        for j in range(s):\n",
    "            if i!=j:\n",
    "                t1 = 1 if A[i][j]>threshold else (-1 if A[i][j]<threshold else 0)\n",
    "                t2 = 1 if out[i][j]>threshold else (-1 if out[i][j]<threshold else 0)\n",
    "                if t1!=t2:\n",
    "                    return A,out,0\n",
    "\n",
    "    return A,out,1"
   ]
  },
  {
   "cell_type": "code",
   "execution_count": 3,
   "metadata": {
    "id": "sKN2M4CWg4_2"
   },
   "outputs": [],
   "source": [
    "# def ising_learn_d_degree_graph(graph_size, num_sample, theta, rand_sign, num_iter,d,show = False):\n",
    "#     \"\"\"\n",
    "#     graph_size: indicates the size of the graph; theta: weight of each edge\n",
    "#     if rand_sign = True, then the sign of each edge weight is random\n",
    "#     if rand_sign = False, then all edge weights = theta\n",
    "#     num_samples: number of samples; num_iter: number of mirror descent iterations\n",
    "#     \"\"\"\n",
    "#     s = graph_size\n",
    "#     A, Xs = dDegreeGraphSampling(s, theta, rand_sign, num_sample,d)\n",
    "#     W1 = 2 * (s - 2) * theta\n",
    "#     A_hat = np.zeros((s, s))\n",
    "\n",
    "#     for i in range(s):\n",
    "#         y = (Xs[:, i] + 1) / 2\n",
    "#         X = np.hstack([Xs[:, :i], Xs[:, i+1:]])\n",
    "#         X = np.hstack([X, -X, np.zeros((num_sample, 1))]) * W1\n",
    "#         w, _ = mirror_descent(X, y, num_iter, W1)\n",
    "#         w = (w[:s-1] - w[s-1:2*s-2]) * W1\n",
    "#         A_hat[i, :i] = w[:i] / 2\n",
    "#         A_hat[i, i+1:] = w[i:] / 2\n",
    "#         topDedges = sorted([(A_hat[i,j],j) for j in range(s)])\n",
    "#         A_hat[i,:] = np.zeros(s)\n",
    "#         for k in range(d):\n",
    "#             A_hat[i,topDedges[-k-1][1]] = topDedges[-k-1][0]\n",
    "#     if show:\n",
    "#         print(\"Actual graph\")\n",
    "#         showModel(A)\n",
    "#         showMat(A)\n",
    "#         print(\"predicted graph\")\n",
    "#         showModel([[A_hat[i][j]!=0 for j in range(s)]for i in range(s)])\n",
    "#         showMat(A_hat)\n",
    "\n",
    "#     error = np.max(np.abs(A - A_hat))\n",
    "#     return error"
   ]
  },
  {
   "cell_type": "code",
   "execution_count": 4,
   "metadata": {
    "id": "tmHvTqQ2lMlE"
   },
   "outputs": [],
   "source": [
    "def getDivergence(A, B):\n",
    "    s = A.shape[0]\n",
    "    all_states = np.array([(np.array(list(bin(i)[2:].zfill(s)), dtype=int)*2-1) for i in range(2**s)])  #generates all states\n",
    "    div=0;\n",
    "    probsA = np.array([np.exp(x @ A @ x.T / 2) for x in all_states])\n",
    "    probsA = probsA / probsA.sum()\n",
    "    probsB = np.array([np.exp(x @ B @ x.T / 2) for x in all_states])\n",
    "    probsB = probsB / probsB.sum()\n",
    "    for i in range(2**s):\n",
    "        div+=probsA[i]*np.log(probsA[i]/probsB[i]);\n",
    "    return div"
   ]
  },
  {
   "cell_type": "code",
   "execution_count": 16,
   "metadata": {
    "colab": {
     "base_uri": "https://localhost:8080/"
    },
    "id": "DHulK4B2NRou",
    "outputId": "abffcf85-e546-4bf4-ea06-e68ca18d2502"
   },
   "outputs": [
    {
     "name": "stdout",
     "output_type": "stream",
     "text": [
      "Maximum absolute error between true and estimated adjacency matrices: 0.0623\n"
     ]
    }
   ],
   "source": [
    "# Parameters\n",
    "graph_size = 8\n",
    "num_sample = 10000\n",
    "theta = 0.1\n",
    "rand_sign = True\n",
    "num_iter = 1000\n",
    "\n",
    "# Run the learning algorithm\n",
    "error = ising_learn(graph_size, num_sample, theta, rand_sign, num_iter)\n",
    "print(f\"Maximum absolute error between true and estimated adjacency matrices: {error:.4f}\")"
   ]
  },
  {
   "cell_type": "code",
   "execution_count": 18,
   "metadata": {
    "colab": {
     "base_uri": "https://localhost:8080/",
     "height": 1000
    },
    "id": "Wolc_5DeQipd",
    "outputId": "454efca9-89ed-4640-d4ba-c1211797f8f3"
   },
   "outputs": [
    {
     "name": "stdout",
     "output_type": "stream",
     "text": [
      "Actual graph\n"
     ]
    },
    {
     "data": {
      "image/png": "[encoded data removed]",
      "text/plain": [
       "<Figure size 640x480 with 1 Axes>"
      ]
     },
     "metadata": {},
     "output_type": "display_data"
    },
    {
     "name": "stdout",
     "output_type": "stream",
     "text": [
      "0.00 0.00 -0.10 0.00 0.00 0.00 0.00 0.00 0.10 0.00 \n",
      "0.00 0.00 0.00 -0.10 0.00 0.00 0.00 -0.10 0.00 0.00 \n",
      "-0.10 0.00 0.00 0.00 0.00 0.00 0.00 0.00 -0.10 0.00 \n",
      "0.00 -0.10 0.00 0.00 0.00 0.00 0.00 0.00 0.00 0.10 \n",
      "0.00 0.00 0.00 0.00 0.00 -0.10 -0.10 0.00 0.00 0.00 \n",
      "0.00 0.00 0.00 0.00 -0.10 0.00 0.10 0.00 0.00 0.00 \n",
      "0.00 0.00 0.00 0.00 -0.10 -0.10 0.00 0.00 0.00 0.00 \n",
      "0.00 -0.10 0.00 0.00 0.00 0.00 0.00 0.00 0.00 0.10 \n",
      "-0.10 0.00 -0.10 0.00 0.00 0.00 0.00 0.00 0.00 0.00 \n",
      "0.00 0.00 0.00 0.10 0.00 0.00 0.00 0.10 0.00 0.00 \n",
      "predicted graph\n"
     ]
    },
    {
     "data": {
      "image/png": "[encoded data removed]",
      "text/plain": [
       "<Figure size 640x480 with 1 Axes>"
      ]
     },
     "metadata": {},
     "output_type": "display_data"
    },
    {
     "name": "stdout",
     "output_type": "stream",
     "text": [
      "0.00 0.00 0.00 0.00 0.00 0.00 0.00 0.00 0.01 0.00 \n",
      "0.00 0.00 0.00 0.00 0.00 0.00 0.00 0.00 0.01 0.00 \n",
      "0.00 0.00 0.00 0.00 0.00 0.01 0.01 0.00 0.00 0.00 \n",
      "0.00 0.00 0.00 0.00 0.00 0.00 0.00 0.01 0.00 0.04 \n",
      "0.00 0.00 0.00 0.00 0.00 0.00 0.00 0.00 0.00 0.00 \n",
      "0.00 0.00 0.01 0.00 0.00 0.00 0.00 0.00 0.00 0.00 \n",
      "0.00 0.00 0.01 0.00 0.00 0.00 0.00 0.00 0.00 0.00 \n",
      "0.00 0.00 0.00 0.01 0.00 0.00 0.00 0.00 0.00 0.04 \n",
      "0.01 0.01 0.00 0.00 0.00 0.00 0.00 0.00 0.00 0.00 \n",
      "0.00 0.00 0.00 0.04 0.00 0.00 0.00 0.04 0.00 0.00 \n",
      "Maximum absolute error between true and estimated adjacency matrices: 0.1051\n"
     ]
    }
   ],
   "source": [
    "graph_size = 10\n",
    "num_sample = 10000\n",
    "theta = 0.1\n",
    "rand_sign = True\n",
    "num_iter = 1000\n",
    "d=2\n",
    "# Run the learning algorithm\n",
    "error = ising_learn_d_degree_graph(graph_size, num_sample, theta, rand_sign, num_iter,d,True)\n",
    "print(f\"Maximum absolute error between true and estimated adjacency matrices: {error:.4f}\")"
   ]
  },
  {
   "cell_type": "code",
   "execution_count": 20,
   "metadata": {
    "colab": {
     "base_uri": "https://localhost:8080/"
    },
    "id": "zB5LMQqcB24H",
    "outputId": "688ae7c4-fc44-44d2-b999-d08c9ebd575d"
   },
   "outputs": [
    {
     "name": "stdout",
     "output_type": "stream",
     "text": [
      "max error is  0.11354699608294323\n",
      "divergence is  0.0022139225879675693\n",
      "number of successful predictions = \t 0\n",
      "33.978292125000735\n"
     ]
    }
   ],
   "source": [
    "import time\n",
    "graph_size = 8\n",
    "num_sample = 10000\n",
    "theta = 0.1\n",
    "rand_sign = True\n",
    "num_iter = 5000\n",
    "d=2\n",
    "success = 0\n",
    "start = time.perf_counter()\n",
    "for i in range(1):\n",
    "    inp,out,t = ising_learn_d_degree_graph_success(graph_size, num_sample, theta, rand_sign, num_iter,d)\n",
    "    print(\"divergence is \",getDivergence(inp,out))\n",
    "    success+= t\n",
    "    # print(f\"Maximum absolute error between true and estimated adjacency matrices: {error:.4f}\")\n",
    "end = time.perf_counter()\n",
    "print(f\"number of successful predictions = \\t {success}\")\n",
    "print(end-start)"
   ]
  },
  {
   "cell_type": "code",
   "execution_count": null,
   "metadata": {},
   "outputs": [],
   "source": []
  }
 ],
 "metadata": {
  "colab": {
   "provenance": []
  },
  "kernelspec": {
   "display_name": "Python 3 (ipykernel)",
   "language": "python",
   "name": "python3"
  },
  "language_info": {
   "codemirror_mode": {
    "name": "ipython",
    "version": 3
   },
   "file_extension": ".py",
   "mimetype": "text/x-python",
   "name": "python",
   "nbconvert_exporter": "python",
   "pygments_lexer": "ipython3",
   "version": "3.8.20"
  }
 },
 "nbformat": 4,
 "nbformat_minor": 4
}
